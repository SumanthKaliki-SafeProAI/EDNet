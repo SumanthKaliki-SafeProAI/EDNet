{
 "cells": [
  {
   "cell_type": "markdown",
   "id": "51508134-b426-45e8-ae95-8094ae69df20",
   "metadata": {},
   "source": [
    "## Model Training"
   ]
  },
  {
   "cell_type": "markdown",
   "id": "777cb162-00bb-4d3d-9973-bd689520514c",
   "metadata": {},
   "source": [
    "### 1. Import EDNet"
   ]
  },
  {
   "cell_type": "code",
   "execution_count": 1,
   "id": "40065821-c153-4f15-81be-a69839ee6024",
   "metadata": {},
   "outputs": [],
   "source": [
    "from ednet import EDNet"
   ]
  },
  {
   "cell_type": "markdown",
   "id": "1b4bbac2-4249-4444-98b3-85b71afe4548",
   "metadata": {},
   "source": [
    "### 2. Select a model size, from t,n,s,m,b,l,x."
   ]
  },
  {
   "cell_type": "code",
   "execution_count": 2,
   "id": "23e4bd0f-a135-431b-95ce-5f5300e39f23",
   "metadata": {},
   "outputs": [],
   "source": [
    "model = EDNet('ednet-t.yaml')\n",
    "# model = EDNet('ednet-n.yaml')\n",
    "# model = EDNet('ednet-s.yaml')\n",
    "# model = EDNet('ednet-m.yaml')\n",
    "# model = EDNet('ednet-b.yaml')\n",
    "# model = EDNet('ednet-l.yaml')\n",
    "# model = EDNet('ednet-x.yaml')"
   ]
  },
  {
   "cell_type": "markdown",
   "id": "824cde2f-303a-48c1-bd6d-7834bfdf9d42",
   "metadata": {},
   "source": [
    "### 3. Start Training\n",
    "e.g. 200 epochs with 640 image size"
   ]
  },
  {
   "cell_type": "code",
   "execution_count": null,
   "id": "dd346d9b-36ea-4520-832f-b2d2d1492ba8",
   "metadata": {},
   "outputs": [],
   "source": [
    "results = model.train(data=\"visdrone-det.yaml\", epochs=200, imgsz=640)"
   ]
  },
  {
   "cell_type": "markdown",
   "id": "662e69a9-41db-4926-9a7d-d09eb1be60a2",
   "metadata": {},
   "source": [
    "### 4. Evaluate"
   ]
  },
  {
   "cell_type": "code",
   "execution_count": null,
   "id": "2b2f612b-74cd-4e4a-b445-b9b637a2fc44",
   "metadata": {},
   "outputs": [],
   "source": [
    "model = EDNet('pretrained/tiny.pt')\n",
    "model.val(data='visdrone-det.yaml', split='val')"
   ]
  },
  {
   "cell_type": "markdown",
   "id": "3d796eaf-7327-451c-9ca5-a7d1fcbd38ef",
   "metadata": {},
   "source": [
    "#### For instructions on exporting to other formats (e.g. TensorRT, ONNX), refer to the Export Notebook."
   ]
  },
  {
   "cell_type": "code",
   "execution_count": null,
   "id": "68723959-ad67-4e5d-8cbe-26f3732065c6",
   "metadata": {},
   "outputs": [],
   "source": []
  }
 ],
 "metadata": {
  "kernelspec": {
   "display_name": "Python 3 (ipykernel)",
   "language": "python",
   "name": "python3"
  },
  "language_info": {
   "codemirror_mode": {
    "name": "ipython",
    "version": 3
   },
   "file_extension": ".py",
   "mimetype": "text/x-python",
   "name": "python",
   "nbconvert_exporter": "python",
   "pygments_lexer": "ipython3",
   "version": "3.9.19"
  }
 },
 "nbformat": 4,
 "nbformat_minor": 5
}
